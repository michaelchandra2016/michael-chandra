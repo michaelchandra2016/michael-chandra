{
 "cells": [
  {
   "cell_type": "code",
   "execution_count": 4,
   "id": "a792dbbb",
   "metadata": {},
   "outputs": [],
   "source": [
    "import itertools\n",
    "import numpy as np\n",
    "import matplotlib.pyplot as plt\n",
    "from matplotlib.ticker import NullFormatter\n",
    "import pandas as pd\n",
    "import numpy as np\n",
    "import matplotlib.ticker as ticker\n",
    "from sklearn import preprocessing\n",
    "%matplotlib inline"
   ]
  },
  {
   "cell_type": "code",
   "execution_count": 5,
   "id": "25e9918b",
   "metadata": {},
   "outputs": [
    {
     "data": {
      "text/html": [
       "<div>\n",
       "<style scoped>\n",
       "    .dataframe tbody tr th:only-of-type {\n",
       "        vertical-align: middle;\n",
       "    }\n",
       "\n",
       "    .dataframe tbody tr th {\n",
       "        vertical-align: top;\n",
       "    }\n",
       "\n",
       "    .dataframe thead th {\n",
       "        text-align: right;\n",
       "    }\n",
       "</style>\n",
       "<table border=\"1\" class=\"dataframe\">\n",
       "  <thead>\n",
       "    <tr style=\"text-align: right;\">\n",
       "      <th></th>\n",
       "      <th>Credit Status</th>\n",
       "      <th>Gender</th>\n",
       "      <th>marital status</th>\n",
       "      <th>Age (years)</th>\n",
       "      <th>Type of apartment</th>\n",
       "      <th>Occupation</th>\n",
       "      <th>number of dependants</th>\n",
       "      <th>Telephone</th>\n",
       "      <th>Foreign Worker</th>\n",
       "      <th>Account Balance</th>\n",
       "      <th>Duration of Credit (month)</th>\n",
       "      <th>Credit Amount</th>\n",
       "      <th>Length of current employment (month)</th>\n",
       "      <th>Instalment per cent</th>\n",
       "    </tr>\n",
       "  </thead>\n",
       "  <tbody>\n",
       "    <tr>\n",
       "      <th>0</th>\n",
       "      <td>0</td>\n",
       "      <td>female</td>\n",
       "      <td>divorced</td>\n",
       "      <td>20</td>\n",
       "      <td>2</td>\n",
       "      <td>3</td>\n",
       "      <td>4</td>\n",
       "      <td>1</td>\n",
       "      <td>1</td>\n",
       "      <td>1</td>\n",
       "      <td>12</td>\n",
       "      <td>661</td>\n",
       "      <td>68</td>\n",
       "      <td>13.567270</td>\n",
       "    </tr>\n",
       "    <tr>\n",
       "      <th>1</th>\n",
       "      <td>1</td>\n",
       "      <td>female</td>\n",
       "      <td>single</td>\n",
       "      <td>54</td>\n",
       "      <td>2</td>\n",
       "      <td>3</td>\n",
       "      <td>6</td>\n",
       "      <td>2</td>\n",
       "      <td>1</td>\n",
       "      <td>4</td>\n",
       "      <td>24</td>\n",
       "      <td>741</td>\n",
       "      <td>82</td>\n",
       "      <td>11.333441</td>\n",
       "    </tr>\n",
       "    <tr>\n",
       "      <th>2</th>\n",
       "      <td>1</td>\n",
       "      <td>male</td>\n",
       "      <td>married</td>\n",
       "      <td>51</td>\n",
       "      <td>3</td>\n",
       "      <td>4</td>\n",
       "      <td>4</td>\n",
       "      <td>2</td>\n",
       "      <td>1</td>\n",
       "      <td>1</td>\n",
       "      <td>8</td>\n",
       "      <td>1158</td>\n",
       "      <td>90</td>\n",
       "      <td>18.619709</td>\n",
       "    </tr>\n",
       "    <tr>\n",
       "      <th>3</th>\n",
       "      <td>1</td>\n",
       "      <td>male</td>\n",
       "      <td>single</td>\n",
       "      <td>30</td>\n",
       "      <td>2</td>\n",
       "      <td>3</td>\n",
       "      <td>4</td>\n",
       "      <td>1</td>\n",
       "      <td>1</td>\n",
       "      <td>2</td>\n",
       "      <td>48</td>\n",
       "      <td>8365</td>\n",
       "      <td>6</td>\n",
       "      <td>34.802371</td>\n",
       "    </tr>\n",
       "    <tr>\n",
       "      <th>4</th>\n",
       "      <td>0</td>\n",
       "      <td>male</td>\n",
       "      <td>divorced</td>\n",
       "      <td>27</td>\n",
       "      <td>2</td>\n",
       "      <td>3</td>\n",
       "      <td>7</td>\n",
       "      <td>1</td>\n",
       "      <td>1</td>\n",
       "      <td>2</td>\n",
       "      <td>36</td>\n",
       "      <td>2797</td>\n",
       "      <td>9</td>\n",
       "      <td>17.894252</td>\n",
       "    </tr>\n",
       "  </tbody>\n",
       "</table>\n",
       "</div>"
      ],
      "text/plain": [
       "   Credit Status  Gender marital status  Age (years)  Type of apartment  \\\n",
       "0              0  female       divorced           20                  2   \n",
       "1              1  female         single           54                  2   \n",
       "2              1    male        married           51                  3   \n",
       "3              1    male         single           30                  2   \n",
       "4              0    male       divorced           27                  2   \n",
       "\n",
       "   Occupation  number of dependants  Telephone  Foreign Worker  \\\n",
       "0           3                     4          1               1   \n",
       "1           3                     6          2               1   \n",
       "2           4                     4          2               1   \n",
       "3           3                     4          1               1   \n",
       "4           3                     7          1               1   \n",
       "\n",
       "   Account Balance  Duration of Credit (month)  Credit Amount  \\\n",
       "0                1                          12            661   \n",
       "1                4                          24            741   \n",
       "2                1                           8           1158   \n",
       "3                2                          48           8365   \n",
       "4                2                          36           2797   \n",
       "\n",
       "   Length of current employment (month)  Instalment per cent  \n",
       "0                                    68            13.567270  \n",
       "1                                    82            11.333441  \n",
       "2                                    90            18.619709  \n",
       "3                                     6            34.802371  \n",
       "4                                     9            17.894252  "
      ]
     },
     "execution_count": 5,
     "metadata": {},
     "output_type": "execute_result"
    }
   ],
   "source": [
    "df=pd.read_excel('TUGAS ALANTURING-17 MARET 2022.xlsx', sheet_name='daataset')\n",
    "df.head ()"
   ]
  },
  {
   "cell_type": "code",
   "execution_count": 11,
   "id": "f85973fc",
   "metadata": {},
   "outputs": [
    {
     "data": {
      "text/html": [
       "<div>\n",
       "<style scoped>\n",
       "    .dataframe tbody tr th:only-of-type {\n",
       "        vertical-align: middle;\n",
       "    }\n",
       "\n",
       "    .dataframe tbody tr th {\n",
       "        vertical-align: top;\n",
       "    }\n",
       "\n",
       "    .dataframe thead th {\n",
       "        text-align: right;\n",
       "    }\n",
       "</style>\n",
       "<table border=\"1\" class=\"dataframe\">\n",
       "  <thead>\n",
       "    <tr style=\"text-align: right;\">\n",
       "      <th></th>\n",
       "      <th>Credit Status</th>\n",
       "      <th>Age (years)</th>\n",
       "      <th>Type of apartment</th>\n",
       "      <th>Occupation</th>\n",
       "      <th>number of dependants</th>\n",
       "      <th>Telephone</th>\n",
       "      <th>Foreign Worker</th>\n",
       "      <th>Account Balance</th>\n",
       "      <th>Duration of Credit (month)</th>\n",
       "      <th>Credit Amount</th>\n",
       "      <th>Length of current employment (month)</th>\n",
       "      <th>Instalment per cent</th>\n",
       "    </tr>\n",
       "  </thead>\n",
       "  <tbody>\n",
       "    <tr>\n",
       "      <th>Credit Status</th>\n",
       "      <td>1.000000</td>\n",
       "      <td>0.094800</td>\n",
       "      <td>0.004115</td>\n",
       "      <td>-0.052766</td>\n",
       "      <td>-0.049117</td>\n",
       "      <td>0.006232</td>\n",
       "      <td>0.060943</td>\n",
       "      <td>0.338315</td>\n",
       "      <td>-0.281404</td>\n",
       "      <td>-0.168679</td>\n",
       "      <td>0.090524</td>\n",
       "      <td>0.053272</td>\n",
       "    </tr>\n",
       "    <tr>\n",
       "      <th>Age (years)</th>\n",
       "      <td>0.094800</td>\n",
       "      <td>1.000000</td>\n",
       "      <td>0.322104</td>\n",
       "      <td>0.122187</td>\n",
       "      <td>-0.119936</td>\n",
       "      <td>0.162182</td>\n",
       "      <td>-0.007656</td>\n",
       "      <td>0.078408</td>\n",
       "      <td>-0.036427</td>\n",
       "      <td>0.073003</td>\n",
       "      <td>0.330317</td>\n",
       "      <td>-0.032325</td>\n",
       "    </tr>\n",
       "    <tr>\n",
       "      <th>Type of apartment</th>\n",
       "      <td>0.004115</td>\n",
       "      <td>0.322104</td>\n",
       "      <td>1.000000</td>\n",
       "      <td>0.121641</td>\n",
       "      <td>-0.058249</td>\n",
       "      <td>0.117660</td>\n",
       "      <td>-0.081895</td>\n",
       "      <td>0.009581</td>\n",
       "      <td>0.116626</td>\n",
       "      <td>0.098361</td>\n",
       "      <td>0.168235</td>\n",
       "      <td>-0.101533</td>\n",
       "    </tr>\n",
       "    <tr>\n",
       "      <th>Occupation</th>\n",
       "      <td>-0.052766</td>\n",
       "      <td>0.122187</td>\n",
       "      <td>0.121641</td>\n",
       "      <td>1.000000</td>\n",
       "      <td>0.057611</td>\n",
       "      <td>0.421788</td>\n",
       "      <td>-0.065942</td>\n",
       "      <td>0.034283</td>\n",
       "      <td>0.189262</td>\n",
       "      <td>0.290746</td>\n",
       "      <td>0.097483</td>\n",
       "      <td>-0.055363</td>\n",
       "    </tr>\n",
       "    <tr>\n",
       "      <th>number of dependants</th>\n",
       "      <td>-0.049117</td>\n",
       "      <td>-0.119936</td>\n",
       "      <td>-0.058249</td>\n",
       "      <td>0.057611</td>\n",
       "      <td>1.000000</td>\n",
       "      <td>0.012092</td>\n",
       "      <td>-0.014743</td>\n",
       "      <td>-0.031384</td>\n",
       "      <td>0.039229</td>\n",
       "      <td>-0.008965</td>\n",
       "      <td>-0.115714</td>\n",
       "      <td>-0.089229</td>\n",
       "    </tr>\n",
       "    <tr>\n",
       "      <th>Telephone</th>\n",
       "      <td>0.006232</td>\n",
       "      <td>0.162182</td>\n",
       "      <td>0.117660</td>\n",
       "      <td>0.421788</td>\n",
       "      <td>0.012092</td>\n",
       "      <td>1.000000</td>\n",
       "      <td>-0.025122</td>\n",
       "      <td>0.079986</td>\n",
       "      <td>0.125747</td>\n",
       "      <td>0.273531</td>\n",
       "      <td>0.091433</td>\n",
       "      <td>-0.025753</td>\n",
       "    </tr>\n",
       "    <tr>\n",
       "      <th>Foreign Worker</th>\n",
       "      <td>0.060943</td>\n",
       "      <td>-0.007656</td>\n",
       "      <td>-0.081895</td>\n",
       "      <td>-0.065942</td>\n",
       "      <td>-0.014743</td>\n",
       "      <td>-0.025122</td>\n",
       "      <td>1.000000</td>\n",
       "      <td>-0.052188</td>\n",
       "      <td>-0.113074</td>\n",
       "      <td>0.016356</td>\n",
       "      <td>0.017990</td>\n",
       "      <td>0.074550</td>\n",
       "    </tr>\n",
       "    <tr>\n",
       "      <th>Account Balance</th>\n",
       "      <td>0.338315</td>\n",
       "      <td>0.078408</td>\n",
       "      <td>0.009581</td>\n",
       "      <td>0.034283</td>\n",
       "      <td>-0.031384</td>\n",
       "      <td>0.079986</td>\n",
       "      <td>-0.052188</td>\n",
       "      <td>1.000000</td>\n",
       "      <td>-0.116917</td>\n",
       "      <td>-0.060133</td>\n",
       "      <td>0.058574</td>\n",
       "      <td>-0.048454</td>\n",
       "    </tr>\n",
       "    <tr>\n",
       "      <th>Duration of Credit (month)</th>\n",
       "      <td>-0.281404</td>\n",
       "      <td>-0.036427</td>\n",
       "      <td>0.116626</td>\n",
       "      <td>0.189262</td>\n",
       "      <td>0.039229</td>\n",
       "      <td>0.125747</td>\n",
       "      <td>-0.113074</td>\n",
       "      <td>-0.116917</td>\n",
       "      <td>1.000000</td>\n",
       "      <td>0.564599</td>\n",
       "      <td>0.062343</td>\n",
       "      <td>-0.004973</td>\n",
       "    </tr>\n",
       "    <tr>\n",
       "      <th>Credit Amount</th>\n",
       "      <td>-0.168679</td>\n",
       "      <td>0.073003</td>\n",
       "      <td>0.098361</td>\n",
       "      <td>0.290746</td>\n",
       "      <td>-0.008965</td>\n",
       "      <td>0.273531</td>\n",
       "      <td>0.016356</td>\n",
       "      <td>-0.060133</td>\n",
       "      <td>0.564599</td>\n",
       "      <td>1.000000</td>\n",
       "      <td>0.011659</td>\n",
       "      <td>0.354583</td>\n",
       "    </tr>\n",
       "    <tr>\n",
       "      <th>Length of current employment (month)</th>\n",
       "      <td>0.090524</td>\n",
       "      <td>0.330317</td>\n",
       "      <td>0.168235</td>\n",
       "      <td>0.097483</td>\n",
       "      <td>-0.115714</td>\n",
       "      <td>0.091433</td>\n",
       "      <td>0.017990</td>\n",
       "      <td>0.058574</td>\n",
       "      <td>0.062343</td>\n",
       "      <td>0.011659</td>\n",
       "      <td>1.000000</td>\n",
       "      <td>-0.120016</td>\n",
       "    </tr>\n",
       "    <tr>\n",
       "      <th>Instalment per cent</th>\n",
       "      <td>0.053272</td>\n",
       "      <td>-0.032325</td>\n",
       "      <td>-0.101533</td>\n",
       "      <td>-0.055363</td>\n",
       "      <td>-0.089229</td>\n",
       "      <td>-0.025753</td>\n",
       "      <td>0.074550</td>\n",
       "      <td>-0.048454</td>\n",
       "      <td>-0.004973</td>\n",
       "      <td>0.354583</td>\n",
       "      <td>-0.120016</td>\n",
       "      <td>1.000000</td>\n",
       "    </tr>\n",
       "  </tbody>\n",
       "</table>\n",
       "</div>"
      ],
      "text/plain": [
       "                                      Credit Status  Age (years)  \\\n",
       "Credit Status                              1.000000     0.094800   \n",
       "Age (years)                                0.094800     1.000000   \n",
       "Type of apartment                          0.004115     0.322104   \n",
       "Occupation                                -0.052766     0.122187   \n",
       "number of dependants                      -0.049117    -0.119936   \n",
       "Telephone                                  0.006232     0.162182   \n",
       "Foreign Worker                             0.060943    -0.007656   \n",
       "Account Balance                            0.338315     0.078408   \n",
       "Duration of Credit (month)                -0.281404    -0.036427   \n",
       "Credit Amount                             -0.168679     0.073003   \n",
       "Length of current employment (month)       0.090524     0.330317   \n",
       "Instalment per cent                        0.053272    -0.032325   \n",
       "\n",
       "                                      Type of apartment  Occupation  \\\n",
       "Credit Status                                  0.004115   -0.052766   \n",
       "Age (years)                                    0.322104    0.122187   \n",
       "Type of apartment                              1.000000    0.121641   \n",
       "Occupation                                     0.121641    1.000000   \n",
       "number of dependants                          -0.058249    0.057611   \n",
       "Telephone                                      0.117660    0.421788   \n",
       "Foreign Worker                                -0.081895   -0.065942   \n",
       "Account Balance                                0.009581    0.034283   \n",
       "Duration of Credit (month)                     0.116626    0.189262   \n",
       "Credit Amount                                  0.098361    0.290746   \n",
       "Length of current employment (month)           0.168235    0.097483   \n",
       "Instalment per cent                           -0.101533   -0.055363   \n",
       "\n",
       "                                      number of dependants  Telephone  \\\n",
       "Credit Status                                    -0.049117   0.006232   \n",
       "Age (years)                                      -0.119936   0.162182   \n",
       "Type of apartment                                -0.058249   0.117660   \n",
       "Occupation                                        0.057611   0.421788   \n",
       "number of dependants                              1.000000   0.012092   \n",
       "Telephone                                         0.012092   1.000000   \n",
       "Foreign Worker                                   -0.014743  -0.025122   \n",
       "Account Balance                                  -0.031384   0.079986   \n",
       "Duration of Credit (month)                        0.039229   0.125747   \n",
       "Credit Amount                                    -0.008965   0.273531   \n",
       "Length of current employment (month)             -0.115714   0.091433   \n",
       "Instalment per cent                              -0.089229  -0.025753   \n",
       "\n",
       "                                      Foreign Worker  Account Balance  \\\n",
       "Credit Status                               0.060943         0.338315   \n",
       "Age (years)                                -0.007656         0.078408   \n",
       "Type of apartment                          -0.081895         0.009581   \n",
       "Occupation                                 -0.065942         0.034283   \n",
       "number of dependants                       -0.014743        -0.031384   \n",
       "Telephone                                  -0.025122         0.079986   \n",
       "Foreign Worker                              1.000000        -0.052188   \n",
       "Account Balance                            -0.052188         1.000000   \n",
       "Duration of Credit (month)                 -0.113074        -0.116917   \n",
       "Credit Amount                               0.016356        -0.060133   \n",
       "Length of current employment (month)        0.017990         0.058574   \n",
       "Instalment per cent                         0.074550        -0.048454   \n",
       "\n",
       "                                      Duration of Credit (month)  \\\n",
       "Credit Status                                          -0.281404   \n",
       "Age (years)                                            -0.036427   \n",
       "Type of apartment                                       0.116626   \n",
       "Occupation                                              0.189262   \n",
       "number of dependants                                    0.039229   \n",
       "Telephone                                               0.125747   \n",
       "Foreign Worker                                         -0.113074   \n",
       "Account Balance                                        -0.116917   \n",
       "Duration of Credit (month)                              1.000000   \n",
       "Credit Amount                                           0.564599   \n",
       "Length of current employment (month)                    0.062343   \n",
       "Instalment per cent                                    -0.004973   \n",
       "\n",
       "                                      Credit Amount  \\\n",
       "Credit Status                             -0.168679   \n",
       "Age (years)                                0.073003   \n",
       "Type of apartment                          0.098361   \n",
       "Occupation                                 0.290746   \n",
       "number of dependants                      -0.008965   \n",
       "Telephone                                  0.273531   \n",
       "Foreign Worker                             0.016356   \n",
       "Account Balance                           -0.060133   \n",
       "Duration of Credit (month)                 0.564599   \n",
       "Credit Amount                              1.000000   \n",
       "Length of current employment (month)       0.011659   \n",
       "Instalment per cent                        0.354583   \n",
       "\n",
       "                                      Length of current employment (month)  \\\n",
       "Credit Status                                                     0.090524   \n",
       "Age (years)                                                       0.330317   \n",
       "Type of apartment                                                 0.168235   \n",
       "Occupation                                                        0.097483   \n",
       "number of dependants                                             -0.115714   \n",
       "Telephone                                                         0.091433   \n",
       "Foreign Worker                                                    0.017990   \n",
       "Account Balance                                                   0.058574   \n",
       "Duration of Credit (month)                                        0.062343   \n",
       "Credit Amount                                                     0.011659   \n",
       "Length of current employment (month)                              1.000000   \n",
       "Instalment per cent                                              -0.120016   \n",
       "\n",
       "                                      Instalment per cent  \n",
       "Credit Status                                    0.053272  \n",
       "Age (years)                                     -0.032325  \n",
       "Type of apartment                               -0.101533  \n",
       "Occupation                                      -0.055363  \n",
       "number of dependants                            -0.089229  \n",
       "Telephone                                       -0.025753  \n",
       "Foreign Worker                                   0.074550  \n",
       "Account Balance                                 -0.048454  \n",
       "Duration of Credit (month)                      -0.004973  \n",
       "Credit Amount                                    0.354583  \n",
       "Length of current employment (month)            -0.120016  \n",
       "Instalment per cent                              1.000000  "
      ]
     },
     "execution_count": 11,
     "metadata": {},
     "output_type": "execute_result"
    }
   ],
   "source": [
    "df.corr()"
   ]
  },
  {
   "cell_type": "code",
   "execution_count": 6,
   "id": "5ff92f1c",
   "metadata": {},
   "outputs": [
    {
     "data": {
      "image/png": "[encoded data removed]",
      "text/plain": [
       "<Figure size 432x288 with 1 Axes>"
      ]
     },
     "metadata": {
      "needs_background": "light"
     },
     "output_type": "display_data"
    }
   ],
   "source": [
    "df.plot(kind = 'scatter', x = 'Age (years)', y = 'Credit Status')\n",
    "\n",
    "plt.show()"
   ]
  },
  {
   "cell_type": "code",
   "execution_count": 7,
   "id": "eedb05e9",
   "metadata": {},
   "outputs": [
    {
     "data": {
      "image/png": "[encoded data removed]",
      "text/plain": [
       "<Figure size 432x288 with 1 Axes>"
      ]
     },
     "metadata": {
      "needs_background": "light"
     },
     "output_type": "display_data"
    }
   ],
   "source": [
    "df.plot(kind = 'scatter', x = 'Credit Amount', y = 'Credit Status')\n",
    "\n",
    "plt.show()"
   ]
  },
  {
   "cell_type": "code",
   "execution_count": 12,
   "id": "36b6ed8c",
   "metadata": {},
   "outputs": [
    {
     "data": {
      "text/plain": [
       "array([[<AxesSubplot:title={'center':'Credit Amount'}>]], dtype=object)"
      ]
     },
     "execution_count": 12,
     "metadata": {},
     "output_type": "execute_result"
    },
    {
     "data": {
      "image/png": "[encoded data removed]",
      "text/plain": [
       "<Figure size 432x288 with 1 Axes>"
      ]
     },
     "metadata": {
      "needs_background": "light"
     },
     "output_type": "display_data"
    }
   ],
   "source": [
    "df.hist(column='Credit Amount', bins=75)"
   ]
  },
  {
   "cell_type": "code",
   "execution_count": 15,
   "id": "395af9b2",
   "metadata": {},
   "outputs": [
    {
     "data": {
      "text/plain": [
       "array([[<AxesSubplot:title={'center':'Duration of Credit (month)'}>]],\n",
       "      dtype=object)"
      ]
     },
     "execution_count": 15,
     "metadata": {},
     "output_type": "execute_result"
    },
    {
     "data": {
      "image/png": "[encoded data removed]",
      "text/plain": [
       "<Figure size 432x288 with 1 Axes>"
      ]
     },
     "metadata": {
      "needs_background": "light"
     },
     "output_type": "display_data"
    }
   ],
   "source": [
    "df.hist(column='Duration of Credit (month)', bins=50)"
   ]
  },
  {
   "cell_type": "code",
   "execution_count": 12,
   "id": "4bd43637",
   "metadata": {},
   "outputs": [
    {
     "data": {
      "text/plain": [
       "1    581\n",
       "2     19\n",
       "Name: Foreign Worker, dtype: int64"
      ]
     },
     "execution_count": 12,
     "metadata": {},
     "output_type": "execute_result"
    }
   ],
   "source": [
    "df['Foreign Worker'].value_counts()"
   ]
  },
  {
   "cell_type": "code",
   "execution_count": 13,
   "id": "9d778f3d",
   "metadata": {},
   "outputs": [
    {
     "data": {
      "text/plain": [
       "3    371\n",
       "2    119\n",
       "4     98\n",
       "1     12\n",
       "Name: Occupation, dtype: int64"
      ]
     },
     "execution_count": 13,
     "metadata": {},
     "output_type": "execute_result"
    }
   ],
   "source": [
    "df['Occupation'].value_counts()"
   ]
  },
  {
   "cell_type": "code",
   "execution_count": 17,
   "id": "b55dea66",
   "metadata": {},
   "outputs": [
    {
     "data": {
      "text/plain": [
       "count      600.000000\n",
       "mean      3492.395000\n",
       "std       2978.695346\n",
       "min        249.000000\n",
       "25%       1365.000000\n",
       "50%       2462.500000\n",
       "75%       4435.250000\n",
       "max      18408.000000\n",
       "Name: Credit Amount, dtype: float64"
      ]
     },
     "execution_count": 17,
     "metadata": {},
     "output_type": "execute_result"
    }
   ],
   "source": [
    "df['Credit Amount'].describe()"
   ]
  },
  {
   "cell_type": "code",
   "execution_count": 18,
   "id": "2d17c393",
   "metadata": {},
   "outputs": [
    {
     "data": {
      "text/plain": [
       "count    600.000000\n",
       "mean      35.368333\n",
       "std       11.196499\n",
       "min       20.000000\n",
       "25%       26.750000\n",
       "50%       33.000000\n",
       "75%       42.000000\n",
       "max       75.000000\n",
       "Name: Age (years), dtype: float64"
      ]
     },
     "execution_count": 18,
     "metadata": {},
     "output_type": "execute_result"
    }
   ],
   "source": [
    "df['Age (years)'].describe()"
   ]
  },
  {
   "cell_type": "code",
   "execution_count": 20,
   "id": "6763d983",
   "metadata": {},
   "outputs": [
    {
     "data": {
      "text/plain": [
       "count    600.000000\n",
       "mean      45.883333\n",
       "std       37.178849\n",
       "min        0.000000\n",
       "25%       12.000000\n",
       "50%       38.000000\n",
       "75%       81.000000\n",
       "max      120.000000\n",
       "Name: Length of current employment (month), dtype: float64"
      ]
     },
     "execution_count": 20,
     "metadata": {},
     "output_type": "execute_result"
    }
   ],
   "source": [
    "df['Length of current employment (month)'].describe()"
   ]
  },
  {
   "cell_type": "code",
   "execution_count": 21,
   "id": "accd0e1a",
   "metadata": {},
   "outputs": [
    {
     "data": {
      "text/plain": [
       "Index(['Credit Status', 'Gender', 'marital status', 'Age (years)',\n",
       "       'Type of apartment', 'Occupation', 'number of dependants', 'Telephone',\n",
       "       'Foreign Worker', 'Account Balance', 'Duration of Credit (month)',\n",
       "       'Credit Amount', 'Length of current employment (month)',\n",
       "       'Instalment per cent'],\n",
       "      dtype='object')"
      ]
     },
     "execution_count": 21,
     "metadata": {},
     "output_type": "execute_result"
    }
   ],
   "source": [
    "df.columns"
   ]
  },
  {
   "cell_type": "code",
   "execution_count": 23,
   "id": "604a36f6",
   "metadata": {},
   "outputs": [
    {
     "data": {
      "text/plain": [
       "array([[2.00000000e+01, 1.20000000e+01, 6.61000000e+02, 6.80000000e+01,\n",
       "        1.35672703e+01],\n",
       "       [5.40000000e+01, 2.40000000e+01, 7.41000000e+02, 8.20000000e+01,\n",
       "        1.13334406e+01],\n",
       "       [5.10000000e+01, 8.00000000e+00, 1.15800000e+03, 9.00000000e+01,\n",
       "        1.86197090e+01],\n",
       "       [3.00000000e+01, 4.80000000e+01, 8.36500000e+03, 6.00000000e+00,\n",
       "        3.48023708e+01],\n",
       "       [2.70000000e+01, 3.60000000e+01, 2.79700000e+03, 9.00000000e+00,\n",
       "        1.78942522e+01]])"
      ]
     },
     "execution_count": 23,
     "metadata": {},
     "output_type": "execute_result"
    }
   ],
   "source": [
    "X = df[['Age (years)', 'Duration of Credit (month)', 'Credit Amount', 'Length of current employment (month)',\n",
    "       'Instalment per cent']].values\n",
    "X[0:5]"
   ]
  },
  {
   "cell_type": "code",
   "execution_count": 24,
   "id": "c68c0626",
   "metadata": {},
   "outputs": [
    {
     "data": {
      "text/plain": [
       "array([[0],\n",
       "       [1],\n",
       "       [1],\n",
       "       [1],\n",
       "       [0]], dtype=int64)"
      ]
     },
     "execution_count": 24,
     "metadata": {},
     "output_type": "execute_result"
    }
   ],
   "source": [
    "y = df[['Credit Status']].values\n",
    "y [0:5]"
   ]
  },
  {
   "cell_type": "code",
   "execution_count": 25,
   "id": "0e406c76",
   "metadata": {},
   "outputs": [
    {
     "data": {
      "text/plain": [
       "array([[-1.37374689, -0.75928055, -0.95134182,  0.59536862, -0.98497832],\n",
       "       [ 1.66545022,  0.22626478, -0.92446201,  0.972241  , -1.22218833],\n",
       "       [ 1.39728577, -1.08779567, -0.78435103,  1.18759664, -0.44846066],\n",
       "       [-0.47986539,  2.19735546,  1.6371834 , -1.07363761,  1.26997361],\n",
       "       [-0.74802984,  1.21181012, -0.23365103, -0.99287925, -0.52549681]])"
      ]
     },
     "execution_count": 25,
     "metadata": {},
     "output_type": "execute_result"
    }
   ],
   "source": [
    "from sklearn import preprocessing\n",
    "X = preprocessing.StandardScaler().fit(X).transform(X.astype(float))\n",
    "X[0:5]"
   ]
  },
  {
   "cell_type": "code",
   "execution_count": 30,
   "id": "5d12566e",
   "metadata": {},
   "outputs": [
    {
     "name": "stdout",
     "output_type": "stream",
     "text": [
      "Train set: (480, 5) (480, 1)\n",
      "Test set: (120, 5) (120, 1)\n"
     ]
    }
   ],
   "source": [
    "from sklearn.model_selection import train_test_split\n",
    "X_train, X_test, y_train, y_test = train_test_split( X, y, test_size=0.2, random_state=4)\n",
    "print ('Train set:', X_train.shape,  y_train.shape)\n",
    "print ('Test set:', X_test.shape,  y_test.shape)"
   ]
  },
  {
   "cell_type": "code",
   "execution_count": 32,
   "id": "3e97ad04",
   "metadata": {},
   "outputs": [
    {
     "name": "stderr",
     "output_type": "stream",
     "text": [
      "C:\\Users\\micha\\anaconda3\\lib\\site-packages\\sklearn\\neighbors\\_classification.py:179: DataConversionWarning: A column-vector y was passed when a 1d array was expected. Please change the shape of y to (n_samples,), for example using ravel().\n",
      "  return self._fit(X, y)\n"
     ]
    },
    {
     "data": {
      "text/plain": [
       "KNeighborsClassifier(n_neighbors=11)"
      ]
     },
     "execution_count": 32,
     "metadata": {},
     "output_type": "execute_result"
    }
   ],
   "source": [
    "from sklearn.neighbors import KNeighborsClassifier\n",
    "k = 11\n",
    "#Train Model and Predict  \n",
    "knn = KNeighborsClassifier(n_neighbors = k).fit(X_train,y_train)\n",
    "knn"
   ]
  },
  {
   "cell_type": "code",
   "execution_count": 33,
   "id": "f51015d5",
   "metadata": {},
   "outputs": [
    {
     "data": {
      "text/plain": [
       "array([1, 1, 1, 1, 1, 0, 0, 0, 1, 1, 0, 1, 0, 1, 0, 1, 1, 0, 1, 1, 1, 1,\n",
       "       1, 1, 0, 1, 1, 1, 1, 1, 1, 1, 0, 1, 1, 0, 1, 1, 1, 0, 0, 1, 0, 0,\n",
       "       0, 1, 0, 0, 0, 0, 1, 0, 1, 1, 1, 0, 1, 1, 1, 1, 1, 0, 1, 0, 1, 1,\n",
       "       1, 1, 1, 1, 1, 1, 1, 0, 1, 1, 1, 0, 1, 1, 1, 0, 0, 1, 0, 1, 0, 1,\n",
       "       1, 1, 1, 1, 1, 1, 0, 1, 1, 1, 1, 1, 0, 0, 0, 1, 1, 1, 1, 1, 0, 1,\n",
       "       1, 0, 1, 1, 1, 1, 1, 0, 1, 0], dtype=int64)"
      ]
     },
     "execution_count": 33,
     "metadata": {},
     "output_type": "execute_result"
    }
   ],
   "source": [
    "yhat = knn.predict(X_test)\n",
    "yhat"
   ]
  },
  {
   "cell_type": "code",
   "execution_count": 34,
   "id": "a9b70878",
   "metadata": {},
   "outputs": [
    {
     "name": "stdout",
     "output_type": "stream",
     "text": [
      "Train set Accuracy:  0.7166666666666667\n",
      "Test set Accuracy:  0.7166666666666667\n"
     ]
    }
   ],
   "source": [
    "from sklearn import metrics\n",
    "print(\"Train set Accuracy: \", metrics.accuracy_score(y_train, knn.predict(X_train)))\n",
    "print(\"Test set Accuracy: \", metrics.accuracy_score(y_test, yhat))"
   ]
  },
  {
   "cell_type": "code",
   "execution_count": 50,
   "id": "b31b6818",
   "metadata": {},
   "outputs": [
    {
     "name": "stderr",
     "output_type": "stream",
     "text": [
      "C:\\Users\\micha\\anaconda3\\lib\\site-packages\\sklearn\\neighbors\\_classification.py:179: DataConversionWarning: A column-vector y was passed when a 1d array was expected. Please change the shape of y to (n_samples,), for example using ravel().\n",
      "  return self._fit(X, y)\n",
      "C:\\Users\\micha\\anaconda3\\lib\\site-packages\\sklearn\\neighbors\\_classification.py:179: DataConversionWarning: A column-vector y was passed when a 1d array was expected. Please change the shape of y to (n_samples,), for example using ravel().\n",
      "  return self._fit(X, y)\n",
      "C:\\Users\\micha\\anaconda3\\lib\\site-packages\\sklearn\\neighbors\\_classification.py:179: DataConversionWarning: A column-vector y was passed when a 1d array was expected. Please change the shape of y to (n_samples,), for example using ravel().\n",
      "  return self._fit(X, y)\n",
      "C:\\Users\\micha\\anaconda3\\lib\\site-packages\\sklearn\\neighbors\\_classification.py:179: DataConversionWarning: A column-vector y was passed when a 1d array was expected. Please change the shape of y to (n_samples,), for example using ravel().\n",
      "  return self._fit(X, y)\n",
      "C:\\Users\\micha\\anaconda3\\lib\\site-packages\\sklearn\\neighbors\\_classification.py:179: DataConversionWarning: A column-vector y was passed when a 1d array was expected. Please change the shape of y to (n_samples,), for example using ravel().\n",
      "  return self._fit(X, y)\n",
      "C:\\Users\\micha\\anaconda3\\lib\\site-packages\\sklearn\\neighbors\\_classification.py:179: DataConversionWarning: A column-vector y was passed when a 1d array was expected. Please change the shape of y to (n_samples,), for example using ravel().\n",
      "  return self._fit(X, y)\n",
      "C:\\Users\\micha\\anaconda3\\lib\\site-packages\\sklearn\\neighbors\\_classification.py:179: DataConversionWarning: A column-vector y was passed when a 1d array was expected. Please change the shape of y to (n_samples,), for example using ravel().\n",
      "  return self._fit(X, y)\n",
      "C:\\Users\\micha\\anaconda3\\lib\\site-packages\\sklearn\\neighbors\\_classification.py:179: DataConversionWarning: A column-vector y was passed when a 1d array was expected. Please change the shape of y to (n_samples,), for example using ravel().\n",
      "  return self._fit(X, y)\n",
      "C:\\Users\\micha\\anaconda3\\lib\\site-packages\\sklearn\\neighbors\\_classification.py:179: DataConversionWarning: A column-vector y was passed when a 1d array was expected. Please change the shape of y to (n_samples,), for example using ravel().\n",
      "  return self._fit(X, y)\n",
      "C:\\Users\\micha\\anaconda3\\lib\\site-packages\\sklearn\\neighbors\\_classification.py:179: DataConversionWarning: A column-vector y was passed when a 1d array was expected. Please change the shape of y to (n_samples,), for example using ravel().\n",
      "  return self._fit(X, y)\n",
      "C:\\Users\\micha\\anaconda3\\lib\\site-packages\\sklearn\\neighbors\\_classification.py:179: DataConversionWarning: A column-vector y was passed when a 1d array was expected. Please change the shape of y to (n_samples,), for example using ravel().\n",
      "  return self._fit(X, y)\n",
      "C:\\Users\\micha\\anaconda3\\lib\\site-packages\\sklearn\\neighbors\\_classification.py:179: DataConversionWarning: A column-vector y was passed when a 1d array was expected. Please change the shape of y to (n_samples,), for example using ravel().\n",
      "  return self._fit(X, y)\n",
      "C:\\Users\\micha\\anaconda3\\lib\\site-packages\\sklearn\\neighbors\\_classification.py:179: DataConversionWarning: A column-vector y was passed when a 1d array was expected. Please change the shape of y to (n_samples,), for example using ravel().\n",
      "  return self._fit(X, y)\n",
      "C:\\Users\\micha\\anaconda3\\lib\\site-packages\\sklearn\\neighbors\\_classification.py:179: DataConversionWarning: A column-vector y was passed when a 1d array was expected. Please change the shape of y to (n_samples,), for example using ravel().\n",
      "  return self._fit(X, y)\n"
     ]
    },
    {
     "data": {
      "text/plain": [
       "array([0.6       , 0.55      , 0.59166667, 0.54166667, 0.60833333,\n",
       "       0.56666667, 0.64166667, 0.64166667, 0.68333333, 0.675     ,\n",
       "       0.71666667, 0.69166667, 0.70833333, 0.7       ])"
      ]
     },
     "execution_count": 50,
     "metadata": {},
     "output_type": "execute_result"
    }
   ],
   "source": [
    "import numpy as np\n",
    "from sklearn import metrics\n",
    "Ks = 15\n",
    "mean_acc = np.zeros((Ks-1))\n",
    "std_acc = np.zeros((Ks-1))\n",
    "ConfustionMx = [];\n",
    "for n in range(1,Ks):\n",
    "    \n",
    "    #Train Model and Predict  \n",
    "    neigh = KNeighborsClassifier(n_neighbors = n).fit(X_train,y_train)\n",
    "    yhat=neigh.predict(X_test)\n",
    "    mean_acc[n-1] = metrics.accuracy_score(y_test, yhat)\n",
    "\n",
    "    \n",
    "    std_acc[n-1]=np.std(yhat==y_test)/np.sqrt(yhat.shape[0])\n",
    "\n",
    "mean_acc"
   ]
  },
  {
   "cell_type": "code",
   "execution_count": 51,
   "id": "be149474",
   "metadata": {},
   "outputs": [
    {
     "data": {
      "image/png": "[encoded data removed]",
      "text/plain": [
       "<Figure size 432x288 with 1 Axes>"
      ]
     },
     "metadata": {
      "needs_background": "light"
     },
     "output_type": "display_data"
    }
   ],
   "source": [
    "plt.plot(range(1,Ks),mean_acc,'g')\n",
    "plt.fill_between(range(1,Ks),mean_acc - 1 * std_acc,mean_acc + 1 * std_acc, alpha=0.10)\n",
    "plt.legend(('Accuracy ', '+/- 3xstd'))\n",
    "plt.ylabel('Accuracy ')\n",
    "plt.xlabel('Number of Nabors (K)')\n",
    "plt.tight_layout()\n",
    "plt.show()"
   ]
  },
  {
   "cell_type": "code",
   "execution_count": 36,
   "id": "6fa9487d",
   "metadata": {},
   "outputs": [
    {
     "data": {
      "text/html": [
       "<div>\n",
       "<style scoped>\n",
       "    .dataframe tbody tr th:only-of-type {\n",
       "        vertical-align: middle;\n",
       "    }\n",
       "\n",
       "    .dataframe tbody tr th {\n",
       "        vertical-align: top;\n",
       "    }\n",
       "\n",
       "    .dataframe thead th {\n",
       "        text-align: right;\n",
       "    }\n",
       "</style>\n",
       "<table border=\"1\" class=\"dataframe\">\n",
       "  <thead>\n",
       "    <tr style=\"text-align: right;\">\n",
       "      <th></th>\n",
       "      <th>ID</th>\n",
       "      <th>Credit Status</th>\n",
       "      <th>Gender</th>\n",
       "      <th>marital status</th>\n",
       "      <th>Age (years)</th>\n",
       "      <th>Type of apartment</th>\n",
       "      <th>Occupation</th>\n",
       "      <th>number of dependants</th>\n",
       "      <th>Telephone</th>\n",
       "      <th>Foreign Worker</th>\n",
       "      <th>Account Balance</th>\n",
       "      <th>Duration of Credit (month)</th>\n",
       "      <th>Credit Amount</th>\n",
       "      <th>Length of current employment (month)</th>\n",
       "      <th>Instalment per cent</th>\n",
       "    </tr>\n",
       "  </thead>\n",
       "  <tbody>\n",
       "    <tr>\n",
       "      <th>0</th>\n",
       "      <td>1</td>\n",
       "      <td>NaN</td>\n",
       "      <td>male</td>\n",
       "      <td>married</td>\n",
       "      <td>28</td>\n",
       "      <td>2</td>\n",
       "      <td>3</td>\n",
       "      <td>6</td>\n",
       "      <td>2</td>\n",
       "      <td>1</td>\n",
       "      <td>4</td>\n",
       "      <td>24</td>\n",
       "      <td>2281</td>\n",
       "      <td>56</td>\n",
       "      <td>14.825283</td>\n",
       "    </tr>\n",
       "    <tr>\n",
       "      <th>1</th>\n",
       "      <td>2</td>\n",
       "      <td>NaN</td>\n",
       "      <td>male</td>\n",
       "      <td>married</td>\n",
       "      <td>35</td>\n",
       "      <td>2</td>\n",
       "      <td>3</td>\n",
       "      <td>7</td>\n",
       "      <td>2</td>\n",
       "      <td>1</td>\n",
       "      <td>4</td>\n",
       "      <td>9</td>\n",
       "      <td>2741</td>\n",
       "      <td>99</td>\n",
       "      <td>15.707986</td>\n",
       "    </tr>\n",
       "    <tr>\n",
       "      <th>2</th>\n",
       "      <td>3</td>\n",
       "      <td>NaN</td>\n",
       "      <td>male</td>\n",
       "      <td>married</td>\n",
       "      <td>24</td>\n",
       "      <td>3</td>\n",
       "      <td>3</td>\n",
       "      <td>3</td>\n",
       "      <td>1</td>\n",
       "      <td>1</td>\n",
       "      <td>1</td>\n",
       "      <td>48</td>\n",
       "      <td>4594</td>\n",
       "      <td>82</td>\n",
       "      <td>18.028008</td>\n",
       "    </tr>\n",
       "    <tr>\n",
       "      <th>3</th>\n",
       "      <td>4</td>\n",
       "      <td>NaN</td>\n",
       "      <td>male</td>\n",
       "      <td>single</td>\n",
       "      <td>23</td>\n",
       "      <td>2</td>\n",
       "      <td>3</td>\n",
       "      <td>7</td>\n",
       "      <td>1</td>\n",
       "      <td>1</td>\n",
       "      <td>4</td>\n",
       "      <td>18</td>\n",
       "      <td>1929</td>\n",
       "      <td>1</td>\n",
       "      <td>12.714246</td>\n",
       "    </tr>\n",
       "    <tr>\n",
       "      <th>4</th>\n",
       "      <td>5</td>\n",
       "      <td>NaN</td>\n",
       "      <td>male</td>\n",
       "      <td>married</td>\n",
       "      <td>23</td>\n",
       "      <td>2</td>\n",
       "      <td>3</td>\n",
       "      <td>5</td>\n",
       "      <td>2</td>\n",
       "      <td>1</td>\n",
       "      <td>2</td>\n",
       "      <td>48</td>\n",
       "      <td>15721</td>\n",
       "      <td>22</td>\n",
       "      <td>26.431045</td>\n",
       "    </tr>\n",
       "  </tbody>\n",
       "</table>\n",
       "</div>"
      ],
      "text/plain": [
       "   ID  Credit Status Gender marital status  Age (years)  Type of apartment  \\\n",
       "0   1            NaN   male        married           28                  2   \n",
       "1   2            NaN   male        married           35                  2   \n",
       "2   3            NaN   male        married           24                  3   \n",
       "3   4            NaN   male         single           23                  2   \n",
       "4   5            NaN   male        married           23                  2   \n",
       "\n",
       "   Occupation  number of dependants  Telephone  Foreign Worker  \\\n",
       "0           3                     6          2               1   \n",
       "1           3                     7          2               1   \n",
       "2           3                     3          1               1   \n",
       "3           3                     7          1               1   \n",
       "4           3                     5          2               1   \n",
       "\n",
       "   Account Balance  Duration of Credit (month)  Credit Amount  \\\n",
       "0                4                          24           2281   \n",
       "1                4                           9           2741   \n",
       "2                1                          48           4594   \n",
       "3                4                          18           1929   \n",
       "4                2                          48          15721   \n",
       "\n",
       "   Length of current employment (month)  Instalment per cent  \n",
       "0                                    56            14.825283  \n",
       "1                                    99            15.707986  \n",
       "2                                    82            18.028008  \n",
       "3                                     1            12.714246  \n",
       "4                                    22            26.431045  "
      ]
     },
     "execution_count": 36,
     "metadata": {},
     "output_type": "execute_result"
    }
   ],
   "source": [
    "df1=pd.read_excel('TUGAS ALANTURING-17 MARET 2022.xlsx', sheet_name='submission')\n",
    "df1.head ()"
   ]
  },
  {
   "cell_type": "code",
   "execution_count": 37,
   "id": "06e5664d",
   "metadata": {},
   "outputs": [
    {
     "data": {
      "text/plain": [
       "array([[2.80000000e+01, 2.40000000e+01, 2.28100000e+03, 5.60000000e+01,\n",
       "        1.48252828e+01],\n",
       "       [3.50000000e+01, 9.00000000e+00, 2.74100000e+03, 9.90000000e+01,\n",
       "        1.57079864e+01],\n",
       "       [2.40000000e+01, 4.80000000e+01, 4.59400000e+03, 8.20000000e+01,\n",
       "        1.80280079e+01],\n",
       "       [2.30000000e+01, 1.80000000e+01, 1.92900000e+03, 1.00000000e+00,\n",
       "        1.27142465e+01],\n",
       "       [2.30000000e+01, 4.80000000e+01, 1.57210000e+04, 2.20000000e+01,\n",
       "        2.64310455e+01]])"
      ]
     },
     "execution_count": 37,
     "metadata": {},
     "output_type": "execute_result"
    }
   ],
   "source": [
    "X1 = df1[['Age (years)', 'Duration of Credit (month)', 'Credit Amount', 'Length of current employment (month)',\n",
    "       'Instalment per cent']].values\n",
    "X1[0:5]"
   ]
  },
  {
   "cell_type": "code",
   "execution_count": 38,
   "id": "8d97afda",
   "metadata": {},
   "outputs": [
    {
     "data": {
      "text/plain": [
       "array([[-0.61135613,  0.39345387, -0.31725941,  0.22360997, -0.77005832],\n",
       "       [ 0.11031215, -1.04250916, -0.14490098,  1.36828004, -0.66769553],\n",
       "       [-1.023738  ,  2.69099472,  0.54940374,  0.91573605, -0.39865408],\n",
       "       [-1.12683347, -0.18093134, -0.44915108, -1.24050291, -1.0148648 ],\n",
       "       [-1.12683347,  2.69099472,  4.7186043 , -0.68147799,  0.57580477]])"
      ]
     },
     "execution_count": 38,
     "metadata": {},
     "output_type": "execute_result"
    }
   ],
   "source": [
    "from sklearn import preprocessing\n",
    "X1 = preprocessing.StandardScaler().fit(X1).transform(X1.astype(float))\n",
    "X1[0:5]"
   ]
  },
  {
   "cell_type": "code",
   "execution_count": 59,
   "id": "567d618a",
   "metadata": {},
   "outputs": [
    {
     "data": {
      "text/plain": [
       "array([1, 1, 0, 1, 0, 1, 1, 0, 1, 1, 1, 1, 1, 1, 1, 1, 0, 0, 1, 1, 0, 0,\n",
       "       1, 1, 0, 1, 1, 1, 1, 1, 1, 1, 1, 1, 1, 1, 0, 0, 1, 1, 1, 1, 0, 1,\n",
       "       1, 1, 1, 1, 1, 0, 0, 0, 1, 1, 0, 1, 1, 1, 1, 1, 1, 0, 1, 1, 1, 1,\n",
       "       1, 1, 0, 1, 1, 1, 0, 1, 0, 1, 1, 1, 1, 1, 0, 1, 1, 0, 0, 0, 1, 1,\n",
       "       1, 1, 1, 0, 1, 1, 1, 1, 1, 1, 1, 0], dtype=int64)"
      ]
     },
     "execution_count": 59,
     "metadata": {},
     "output_type": "execute_result"
    }
   ],
   "source": [
    "y1 = knn.predict(X1)\n",
    "y1"
   ]
  },
  {
   "cell_type": "code",
   "execution_count": 60,
   "id": "ec18544a",
   "metadata": {},
   "outputs": [],
   "source": [
    "dfnew=pd.DataFrame(y1)\n",
    "dfnew.to_excel('sub.xlsx')"
   ]
  },
  {
   "cell_type": "code",
   "execution_count": 61,
   "id": "83959f98",
   "metadata": {},
   "outputs": [],
   "source": [
    "dfnew=pd.DataFrame(y1)\n",
    "dfnew.to_csv('sub.csv')"
   ]
  },
  {
   "cell_type": "code",
   "execution_count": null,
   "id": "282bbd2e",
   "metadata": {},
   "outputs": [],
   "source": []
  }
 ],
 "metadata": {
  "kernelspec": {
   "display_name": "Python 3 (ipykernel)",
   "language": "python",
   "name": "python3"
  },
  "language_info": {
   "codemirror_mode": {
    "name": "ipython",
    "version": 3
   },
   "file_extension": ".py",
   "mimetype": "text/x-python",
   "name": "python",
   "nbconvert_exporter": "python",
   "pygments_lexer": "ipython3",
   "version": "3.9.7"
  }
 },
 "nbformat": 4,
 "nbformat_minor": 5
}
